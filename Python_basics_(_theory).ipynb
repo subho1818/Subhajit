{
  "nbformat": 4,
  "nbformat_minor": 0,
  "metadata": {
    "colab": {
      "provenance": [],
      "authorship_tag": "ABX9TyOK3Jl29qxiSd71QXVa55RA",
      "include_colab_link": true
    },
    "kernelspec": {
      "name": "python3",
      "display_name": "Python 3"
    },
    "language_info": {
      "name": "python"
    }
  },
  "cells": [
    {
      "cell_type": "markdown",
      "metadata": {
        "id": "view-in-github",
        "colab_type": "text"
      },
      "source": [
        "<a href=\"https://colab.research.google.com/github/subho1818/Subhajit/blob/main/Python_basics_(_theory).ipynb\" target=\"_parent\"><img src=\"https://colab.research.google.com/assets/colab-badge.svg\" alt=\"Open In Colab\"/></a>"
      ]
    },
    {
      "cell_type": "markdown",
      "source": [
        "1. What is python,and why is it popular?\n",
        "   =  Python is a high-   level, interpreted         programming language known for its clear syntax and readability. It was created by Guido van Rossum and first released in 1991.\n",
        " Why Python is Popular:\n",
        "Simple and Readable Syntax: Its syntax is similar to plain English, making it easier for beginners to learn and understand.\n",
        "\n",
        "Versatile Use: Python is used in web development, data analysis, artificial intelligence, machine learning, automation, scientific computing, and more.\n",
        "\n",
        "Large Standard Library: It includes many built-in modules and functions that simplify tasks.\n",
        "\n",
        "Strong Community Support: A large, active community provides tutorials, libraries, and frameworks.\n",
        "\n",
        "Cross-platform Compatibility: Python runs on major operating systems without needing code changes.\n",
        "\n",
        "Integration Capabilities: It works well with other languages and tools, like C/C++, Java, and databases."
      ],
      "metadata": {
        "id": "waISZgcRJZLD"
      }
    },
    {
      "cell_type": "markdown",
      "source": [],
      "metadata": {
        "id": "dTRyKF-uLnzT"
      }
    },
    {
      "cell_type": "markdown",
      "source": [
        "2. What is an interpreter in python?\n",
        " = an interpreter is a program that reads and         executes Python code line by line. Unlike compiled languages (like C or Java), where the code is translated into machine code all at once, Python code is interpreted at runtime."
      ],
      "metadata": {
        "id": "8I_nNpaAK1Bz"
      }
    },
    {
      "cell_type": "markdown",
      "source": [
        "3. What are pre defined keywords in python ?\n",
        "                                                      = Control Flow: if, else, elif, for, while, break, continue, pass\n",
        "\n",
        "Function & Class: def, return, lambda, class\n",
        "\n",
        "Data Types: True, False, None\n",
        "\n",
        "Logical Operators: and, or, not, in, is\n",
        "\n",
        "Exception Handling: try, except, finally, raise, assert\n",
        "\n",
        "Loop Control: break, continue, pass\n",
        "\n",
        "Importing: import, from, as\n",
        "\n",
        "Others: global, nonlocal, with, yield, del"
      ],
      "metadata": {
        "id": "Ylybuj-1Lw1s"
      }
    },
    {
      "cell_type": "markdown",
      "source": [],
      "metadata": {
        "id": "nVum48aTObP1"
      }
    },
    {
      "cell_type": "markdown",
      "source": [],
      "metadata": {
        "id": "HCTJWNS-NlZP"
      }
    },
    {
      "cell_type": "markdown",
      "source": [
        "4. Can keywords be used as variables names.\n",
        "=No, keywords in Python cannot be used as variable names because they are reserved for specific language functions and syntax. Trying to use a keyword as a variable name will cause a syntax error."
      ],
      "metadata": {
        "id": "LjozYtvKNUDR"
      }
    },
    {
      "cell_type": "markdown",
      "source": [],
      "metadata": {
        "id": "lfoVwWTnPBo0"
      }
    },
    {
      "cell_type": "markdown",
      "source": [
        "5. What is mutability in python ?\n",
        "= Mutability in Python refers to whether an object’s value can be changed after it is created."
      ],
      "metadata": {
        "id": "DRXNhTkdOjgv"
      }
    },
    {
      "cell_type": "markdown",
      "source": [
        "6. Why are list mutable ,but tuples are       immutable.\n",
        " * Lists are designed for dynamic data—you often need to change, add, or remove elements.\n",
        "\n",
        "* Internally, lists are implemented as arrays with flexible memory allocation.\n",
        "\n",
        "* Python allows you to modify a list in place to make it more efficient for updates.\n",
        "\n",
        " Why Tuples are Immutable:\n",
        "* Tuples are meant to represent fixed collections of items, like coordinates, records, or constants.\n",
        "\n",
        "* They are implemented in a way that optimizes for performance and safety."
      ],
      "metadata": {
        "id": "9YICtV4bPHIF"
      }
    },
    {
      "cell_type": "markdown",
      "source": [
        "7. What is the difference between \"==\" and \"is\" operators in python?\n",
        "\n",
        "-  == (Equality Operator):\n",
        "Checks whether the values of two variables are equal.\n",
        "\n",
        "It compares the contents.\n",
        "\n",
        "python\n",
        "Copy code\n",
        "\n",
        " - is (Identity Operator):\n",
        "Checks whether two variables refer to the same object in memory.\n",
        "\n",
        "It compares the object identity.\n",
        "\n",
        "python\n",
        "Copy code"
      ],
      "metadata": {
        "id": "LVZd1vfoQNiN"
      }
    },
    {
      "cell_type": "markdown",
      "source": [
        "8. What are logical operators in python?\n",
        "\n",
        "- The 3 Main Logical Operators:\n",
        "Operator    Description Example Result\n",
        "and True if both conditions are true    True and False  False\n",
        "or  True if at least one condition is true  True or False   True\n",
        "not Reverses the boolean value  not True    False"
      ],
      "metadata": {
        "id": "c8kfnxs1RQeF"
      }
    },
    {
      "cell_type": "markdown",
      "source": [
        "9. What is type casting in python?\n",
        "  - Type casting in Python means converting one data type into another, such as converting a string into an integer, or a float into a string."
      ],
      "metadata": {
        "id": "60ZYcFWrR3EV"
      }
    },
    {
      "cell_type": "markdown",
      "source": [
        "10. What is the difference between explicit and implicit type casting\n",
        "-  Explicit Type Casting:\n",
        "Done manually by the programmer.\n",
        "\n",
        "Use of functions like int(), float(), str(), etc.\n",
        "\n",
        "Useful when changing incompatible types (e.g., string to int).\n",
        "\n",
        " Implicit Type Casting:\n",
        "Done automatically by Python.\n",
        "\n",
        "Occurs when converting smaller to larger or compatible types.\n",
        "\n",
        "No data loss or error."
      ],
      "metadata": {
        "id": "BwXt2DYnTYLI"
      }
    },
    {
      "cell_type": "markdown",
      "source": [
        "11.  What is the purpose of conditional  statements in python.\n",
        " -  Conditional statements in Python are used to make decisions in your code, allowing it to execute specific blocks of code based on certain conditions (i.e., whether something is True or False)."
      ],
      "metadata": {
        "id": "GWfANRcrUHeD"
      }
    },
    {
      "cell_type": "markdown",
      "source": [
        "12.  What is the difference between for and while loop\n",
        "\n",
        " - for Loop:\n",
        "Used for iterating over a sequence (such as a list, tuple, string, or range).\n",
        "\n",
        "Typically used when you know the number of iterations beforehand.\n",
        "\n",
        "  while Loop:\n",
        "Used when you want to repeat code as long as a condition is true.\n",
        "\n",
        "Typically used when you don't know the number of iterations beforehand but have a condition that determines when to stop."
      ],
      "metadata": {
        "id": "kF6q5Z-fUruv"
      }
    },
    {
      "cell_type": "markdown",
      "source": [
        "13.  How does the elif statement work?\n",
        "      - The elif statement in Python stands for \"else if,\" and it is used to check multiple conditions in an if-else chain. It allows you to test more than one condition and execute different blocks of code depending on which condition is True."
      ],
      "metadata": {
        "id": "OHKJ0CldVR7f"
      }
    },
    {
      "cell_type": "markdown",
      "source": [
        "14.  Describe a scenario where a while loop is more suitable than a for loop\n",
        "  - A while loop is more suitable than a for loop when you don't know the exact number of iterations in advance, and you want the loop to continue executing until a certain condition is met or changed during runtime."
      ],
      "metadata": {
        "id": "QTHah10hV5J_"
      }
    }
  ]
}